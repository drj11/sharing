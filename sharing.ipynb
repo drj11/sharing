{
 "cells": [
  {
   "cell_type": "markdown",
   "metadata": {},
   "source": [
    "# Sharing Mutable Datastructures\n",
    "## An Illustrated Primer"
   ]
  },
  {
   "cell_type": "code",
   "execution_count": 7,
   "metadata": {
    "collapsed": true
   },
   "outputs": [],
   "source": [
    "## p and q share mutable state\n",
    "\n",
    "p = q = [3]\n",
    "p += [5]\n",
    "\n"
   ]
  },
  {
   "cell_type": "markdown",
   "metadata": {},
   "source": [
    "(the object referred to by) `q` has also been modified:"
   ]
  },
  {
   "cell_type": "code",
   "execution_count": 8,
   "metadata": {
    "collapsed": false
   },
   "outputs": [
    {
     "data": {
      "text/plain": [
       "[3, 5]"
      ]
     },
     "execution_count": 8,
     "metadata": {},
     "output_type": "execute_result"
    }
   ],
   "source": [
    "q"
   ]
  },
  {
   "cell_type": "markdown",
   "metadata": {},
   "source": [
    "This is because `p` and `q` share the object. `p` and `q` refer to the same object.\n",
    "\n",
    "`p` and `q` have symmetric access to the object.\n",
    "It would be a mistake to refer to the object as `p` and say that `q` refers to `p`.\n",
    "You will see this slightly incorrect language used,\n",
    "but the reader can always fix it in their internal monologue\n",
    "by replacing it with\n",
    "\n",
    "> `q` refers to the same object that `p` does.\n",
    "\n",
    "or\n",
    "\n",
    "> `q` and `p` each refer to the same object."
   ]
  },
  {
   "cell_type": "markdown",
   "metadata": {},
   "source": [
    "Let's explore this a little bit more"
   ]
  },
  {
   "cell_type": "code",
   "execution_count": 9,
   "metadata": {
    "collapsed": true
   },
   "outputs": [],
   "source": [
    "\n",
    "# Artefact 2\n",
    "## p and q can become unshared.\n",
    "\n",
    "p = q = [3]\n",
    "p = p + [5]\n",
    "\n",
    "## p[1] is 5 whereas q[1] is an error.\n",
    "\n",
    "# Artefact 3\n",
    "## p can share internal structure with itself\n",
    "\n",
    "p = []\n",
    "p += [p]\n",
    "\n",
    "# p, p[0], p[0][0], p[0][0][0] are now all the same thing.\n",
    "\n",
    "# Artefact 4\n",
    "## p and q can be different, whilst sharing some internal state\n",
    "\n",
    "p = [3, []]\n",
    "q = [5, p[1]]\n",
    "p[1] += [7]\n",
    "\n",
    "# p and q are still different lists, but p[1] and q[1] are shared."
   ]
  }
 ],
 "metadata": {
  "kernelspec": {
   "display_name": "Python 3",
   "language": "python",
   "name": "python3"
  },
  "language_info": {
   "codemirror_mode": {
    "name": "ipython",
    "version": 3
   },
   "file_extension": ".py",
   "mimetype": "text/x-python",
   "name": "python",
   "nbconvert_exporter": "python",
   "pygments_lexer": "ipython3",
   "version": "3.4.3"
  }
 },
 "nbformat": 4,
 "nbformat_minor": 0
}
