{
 "cells": [
  {
   "cell_type": "markdown",
   "metadata": {},
   "source": [
    "# Sharing Mutable Datastructures\n",
    "## An Illustrated Primer\n",
    "\n",
    "A notebook to explore how Python objects share value.\n",
    "\n",
    "This notebook is available from https://github.com/drj11/sharing/blob/master/sharing.ipynb\n",
    "\n",
    "I encourage you to experiment within this notebook.\n",
    "It's impossible to grasp the core concept that this notebook is trying to illustrate\n",
    "without interacting with the objects we create.\n",
    "\n",
    "Try creating objects of your own, try modifying them.\n",
    "When does modifying one object affect another?\n",
    "\n",
    "The Jupyter Notebook is a good format for\n",
    "getting a high number of _[Tested Hypotheses per Minute](http://lists.software-carpentry.org/pipermail/discuss/2016-November/004873.html)_."
   ]
  },
  {
   "cell_type": "markdown",
   "metadata": {},
   "source": [
    "## Artefact 1: Simple Sharing"
   ]
  },
  {
   "cell_type": "code",
   "execution_count": 34,
   "metadata": {
    "collapsed": true
   },
   "outputs": [],
   "source": [
    "## p and q share mutable state\n",
    "\n",
    "p = q = [3]\n",
    "p += [5]\n",
    "\n"
   ]
  },
  {
   "cell_type": "markdown",
   "metadata": {},
   "source": [
    "(the object referred to by) `q` has also been modified:"
   ]
  },
  {
   "cell_type": "code",
   "execution_count": 35,
   "metadata": {
    "collapsed": false
   },
   "outputs": [
    {
     "data": {
      "text/plain": [
       "[3, 5]"
      ]
     },
     "execution_count": 35,
     "metadata": {},
     "output_type": "execute_result"
    }
   ],
   "source": [
    "q"
   ]
  },
  {
   "cell_type": "markdown",
   "metadata": {},
   "source": [
    "This is because `p` and `q` share the object.\n",
    "`p` and `q` refer to the same object.\n",
    "\n",
    "`p` and `q` have symmetric access to the object.\n",
    "It would be a mistake to refer to the object as `p` and say that `q` refers to `p`.\n",
    "You will see this slightly incorrect language used,\n",
    "but the reader can always fix it in their internal monologue\n",
    "by replacing it with\n",
    "\n",
    "> `q` refers to the same object that `p` does.\n",
    "\n",
    "or\n",
    "\n",
    "> `q` and `p` each refer to the same object."
   ]
  },
  {
   "cell_type": "markdown",
   "metadata": {},
   "source": [
    "Let's explore this a little bit more"
   ]
  },
  {
   "cell_type": "markdown",
   "metadata": {},
   "source": [
    "## Artefact 2: Setting Asunder"
   ]
  },
  {
   "cell_type": "code",
   "execution_count": 36,
   "metadata": {
    "collapsed": false
   },
   "outputs": [
    {
     "name": "stdout",
     "output_type": "stream",
     "text": [
      "5\n"
     ]
    },
    {
     "ename": "IndexError",
     "evalue": "list index out of range",
     "output_type": "error",
     "traceback": [
      "\u001b[1;31m---------------------------------------------------------------------------\u001b[0m",
      "\u001b[1;31mIndexError\u001b[0m                                Traceback (most recent call last)",
      "\u001b[1;32m<ipython-input-36-22f45df64318>\u001b[0m in \u001b[0;36m<module>\u001b[1;34m()\u001b[0m\n\u001b[0;32m      6\u001b[0m \u001b[1;31m## t[1] is 5 whereas u[1] is an error.\u001b[0m\u001b[1;33m\u001b[0m\u001b[1;33m\u001b[0m\u001b[0m\n\u001b[0;32m      7\u001b[0m \u001b[0mprint\u001b[0m\u001b[1;33m(\u001b[0m\u001b[0mt\u001b[0m\u001b[1;33m[\u001b[0m\u001b[1;36m1\u001b[0m\u001b[1;33m]\u001b[0m\u001b[1;33m)\u001b[0m\u001b[1;33m\u001b[0m\u001b[0m\n\u001b[1;32m----> 8\u001b[1;33m \u001b[0mprint\u001b[0m\u001b[1;33m(\u001b[0m\u001b[0mu\u001b[0m\u001b[1;33m[\u001b[0m\u001b[1;36m1\u001b[0m\u001b[1;33m]\u001b[0m\u001b[1;33m)\u001b[0m\u001b[1;33m\u001b[0m\u001b[0m\n\u001b[0m",
      "\u001b[1;31mIndexError\u001b[0m: list index out of range"
     ]
    }
   ],
   "source": [
    "## `t` and `u` start shared, but can become unshared\n",
    "\n",
    "t = u = [3]\n",
    "t = t + [5]\n",
    "\n",
    "## t[1] is 5 whereas u[1] is an error.\n",
    "print(t[1])\n",
    "print(u[1])"
   ]
  },
  {
   "cell_type": "markdown",
   "metadata": {},
   "source": [
    "## Artefact 3: Internal Sharing"
   ]
  },
  {
   "cell_type": "markdown",
   "metadata": {},
   "source": [
    "We don't need different variables to illustrate sharing.\n",
    "Different elements of a single object can share mutable state."
   ]
  },
  {
   "cell_type": "code",
   "execution_count": 37,
   "metadata": {
    "collapsed": false
   },
   "outputs": [
    {
     "data": {
      "text/plain": [
       "[[5], [5], [5]]"
      ]
     },
     "execution_count": 37,
     "metadata": {},
     "output_type": "execute_result"
    }
   ],
   "source": [
    "m = [[5]]\n",
    "m = m * 3\n",
    "m"
   ]
  },
  {
   "cell_type": "markdown",
   "metadata": {},
   "source": [
    "`m` is a 3-element list.\n",
    "Each element is a reference to the list `[5]`,\n",
    "but there are not 3 different list objects.\n",
    "There is only one \"inner list\" object;\n",
    "each element of `m` refers to the same list object.\n",
    "\n",
    "Which we can verify with `id()`, `is`, or mutation:"
   ]
  },
  {
   "cell_type": "code",
   "execution_count": 38,
   "metadata": {
    "collapsed": false
   },
   "outputs": [
    {
     "name": "stdout",
     "output_type": "stream",
     "text": [
      "140128684915528\n",
      "140128684915528\n",
      "140128684915528\n",
      "True True\n"
     ]
    },
    {
     "data": {
      "text/plain": [
       "[[5, 7], [5, 7], [5, 7]]"
      ]
     },
     "execution_count": 38,
     "metadata": {},
     "output_type": "execute_result"
    }
   ],
   "source": [
    "for e in m:\n",
    "    print(id(e))\n",
    "\n",
    "print(m[0] is m[1], m[1] is m[2])\n",
    "\n",
    "m[0] += [7]\n",
    "\n",
    "m"
   ]
  },
  {
   "cell_type": "markdown",
   "metadata": {},
   "source": [
    "The multiply operator for lists (in the code `m = m * 3` above) is a bit obscure.\n",
    "But if you feel it is cheating, consider the following function:"
   ]
  },
  {
   "cell_type": "code",
   "execution_count": 39,
   "metadata": {
    "collapsed": false
   },
   "outputs": [
    {
     "data": {
      "text/plain": [
       "[[3], [3], [3]]"
      ]
     },
     "execution_count": 39,
     "metadata": {},
     "output_type": "execute_result"
    }
   ],
   "source": [
    "def triple(e):\n",
    "    return [e, e, e]\n",
    "\n",
    "trip = triple([3])\n",
    "trip"
   ]
  },
  {
   "cell_type": "markdown",
   "metadata": {},
   "source": [
    "# Artefact 4"
   ]
  },
  {
   "cell_type": "code",
   "execution_count": 40,
   "metadata": {
    "collapsed": false
   },
   "outputs": [
    {
     "name": "stdout",
     "output_type": "stream",
     "text": [
      "[3, [7]]\n",
      "[5, [7]]\n"
     ]
    }
   ],
   "source": [
    "# a and b can be different, whilst sharing some internal state\n",
    "\n",
    "a = [3, []]\n",
    "b = [5, a[1]]\n",
    "b[1] += [7]\n",
    "\n",
    "# a and b are still different lists, but a[1] and b[1] are shared.\n",
    "print(a)\n",
    "print(b)"
   ]
  },
  {
   "cell_type": "markdown",
   "metadata": {},
   "source": [
    "## More wackiness"
   ]
  },
  {
   "cell_type": "code",
   "execution_count": 41,
   "metadata": {
    "collapsed": true
   },
   "outputs": [],
   "source": [
    "## p can share internal structure with itself\n",
    "\n",
    "p = []\n",
    "p += [p]\n",
    "\n",
    "# p, p[0], p[0][0], p[0][0][0] are now all the same thing."
   ]
  },
  {
   "cell_type": "code",
   "execution_count": 42,
   "metadata": {
    "collapsed": false
   },
   "outputs": [
    {
     "data": {
      "text/plain": [
       "[[...], [...], [...]]"
      ]
     },
     "execution_count": 42,
     "metadata": {},
     "output_type": "execute_result"
    }
   ],
   "source": [
    "# Consider also things like:\n",
    "\n",
    "p = []\n",
    "p += [p]\n",
    "p *= 3\n",
    "\n",
    "p"
   ]
  }
 ],
 "metadata": {
  "kernelspec": {
   "display_name": "Python 3",
   "language": "python",
   "name": "python3"
  },
  "language_info": {
   "codemirror_mode": {
    "name": "ipython",
    "version": 3
   },
   "file_extension": ".py",
   "mimetype": "text/x-python",
   "name": "python",
   "nbconvert_exporter": "python",
   "pygments_lexer": "ipython3",
   "version": "3.4.3"
  }
 },
 "nbformat": 4,
 "nbformat_minor": 0
}
